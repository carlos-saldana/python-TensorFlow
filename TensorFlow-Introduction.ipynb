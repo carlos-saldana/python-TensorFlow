{
 "cells": [
  {
   "cell_type": "markdown",
   "id": "b125fc0c-30ae-491a-a415-8d518667a5a7",
   "metadata": {},
   "source": [
    "### Introducción a TensorFlow\n",
    "1. Importación o generación del conjunto de datos.\n",
    "2. Transformación y normalización de los datos.\n",
    "3. División del conjunto de datos en conjuntos de entrenamiento, validación y test.\n",
    "4. Definir los hiperparámetros del algoritmo."
   ]
  },
  {
   "cell_type": "code",
   "execution_count": 9,
   "id": "39679d80-6289-4feb-abec-fbc6a34c2390",
   "metadata": {},
   "outputs": [],
   "source": [
    "import tensorflow as tf\n",
    "%config IPCompleter.greedy = True"
   ]
  },
  {
   "cell_type": "code",
   "execution_count": 7,
   "id": "9498b9ba-0eb1-4ef2-b9b0-aa60f499ca22",
   "metadata": {},
   "outputs": [],
   "source": [
    "#----- HIPERPARÁMETROS -----\n",
    "learning_rate = 0.01 #ratio de aprendizaje\n",
    "batch_size = 50 #tamaño de la muestra\n",
    "iteration = 10000 #número de iteraciones"
   ]
  },
  {
   "cell_type": "markdown",
   "id": "34a355cf-371e-45b3-869d-2ce64f335fa2",
   "metadata": {},
   "source": [
    "5. Inicializar variables y placeholders"
   ]
  },
  {
   "cell_type": "code",
   "execution_count": 8,
   "id": "5cb23c0e-d0c4-4f8d-be2f-d345b411bac0",
   "metadata": {},
   "outputs": [],
   "source": [
    "x = tf.constant(30)\n",
    "#(tipo de dato, [cantidad de datos, vectores 3D])\n",
    "x_input = tf.placeholder(tf.float32, [None, 3])\n",
    "y_input = tf.placeholder(tf.float32, [None, 5])"
   ]
  },
  {
   "cell_type": "markdown",
   "id": "bff1f95d-e177-4972-902a-50702b856ec7",
   "metadata": {},
   "source": [
    "6. Definir la estructura del modelo del algoritmo.\n",
    "$$y = mx+n$$"
   ]
  },
  {
   "cell_type": "code",
   "execution_count": null,
   "id": "4dd218b6-ca10-46e5-a3f7-1cda75a0b9ca",
   "metadata": {},
   "outputs": [],
   "source": [
    "y_pred = tf.add(tf.multiply(m_matrix, x_input), n_vector)"
   ]
  },
  {
   "cell_type": "markdown",
   "id": "f51623d8-ece9-41b4-8ab4-60973ae424ec",
   "metadata": {},
   "source": [
    "7. Declarar la función de pérdidas (loss function)\n",
    "$$MSE = \\frac{\\sum_{i=1}^n(y_{actual} - y_{pred})^2}{n}$$"
   ]
  },
  {
   "cell_type": "code",
   "execution_count": null,
   "id": "d9fbacaf-81e4-40e0-af0c-0a3dc8db4ca7",
   "metadata": {},
   "outputs": [],
   "source": [
    "loss = tf.reduce_mean(tf.square(y_actual - y_pred))"
   ]
  },
  {
   "cell_type": "markdown",
   "id": "9eede848-db8c-4f98-9b31-082113dcd8ef",
   "metadata": {},
   "source": [
    "8. Inicializar y entrenar el modelo anterior"
   ]
  },
  {
   "cell_type": "code",
   "execution_count": null,
   "id": "e3e7c539-6e04-405d-8f50-f8c6a1e357ba",
   "metadata": {},
   "outputs": [],
   "source": [
    "with tf.Session(graph = graph) as session:\n",
    "    ...\n",
    "    session.run(...)\n",
    "    ..."
   ]
  },
  {
   "cell_type": "code",
   "execution_count": null,
   "id": "25776d25-caeb-45f8-954a-6ff1cbe91bd8",
   "metadata": {},
   "outputs": [],
   "source": [
    "session = tf.Session(graph = graph)\n",
    "...\n",
    "session.run(...)\n",
    "..."
   ]
  },
  {
   "cell_type": "markdown",
   "id": "7eb39679-43d7-4d41-8d60-5dd4190579e1",
   "metadata": {},
   "source": [
    "9. Evaluación del modelo.\n",
    "10. Ajustar los hiper-parámetros.\n",
    "11. Publicar (subir a producción) y predecir nuevos resultados."
   ]
  },
  {
   "cell_type": "markdown",
   "id": "28b7ed2f-e61f-40e7-9a88-da94e718126b",
   "metadata": {},
   "source": [
    "### Definición de tensores\n",
    "Un tensor es un vector o matriz (estructura n-dimensional)"
   ]
  },
  {
   "cell_type": "code",
   "execution_count": 14,
   "id": "b545b3b9-e6ca-4d1a-8ac0-62857ba399c2",
   "metadata": {},
   "outputs": [
    {
     "data": {
      "text/plain": [
       "<tf.Tensor 'zeros_4:0' shape=(3, 4, 6) dtype=float32>"
      ]
     },
     "execution_count": 14,
     "metadata": {},
     "output_type": "execute_result"
    }
   ],
   "source": [
    "#----- Tensor de ceros -----\n",
    "zero_t = tf.zeros([3, 4, 6])\n",
    "zero_t"
   ]
  },
  {
   "cell_type": "code",
   "execution_count": 15,
   "id": "dbdab2f4-d89b-4bf2-95c4-3f27bfbeaae3",
   "metadata": {},
   "outputs": [
    {
     "data": {
      "text/plain": [
       "<tf.Tensor 'ones:0' shape=(3, 4) dtype=float32>"
      ]
     },
     "execution_count": 15,
     "metadata": {},
     "output_type": "execute_result"
    }
   ],
   "source": [
    "#----- Tensor de unos -----\n",
    "ones_t = tf.ones([3, 4])\n",
    "ones_t"
   ]
  },
  {
   "cell_type": "code",
   "execution_count": 17,
   "id": "afcc8dbc-2151-49c8-8c50-3059253b02b2",
   "metadata": {},
   "outputs": [
    {
     "data": {
      "text/plain": [
       "<tf.Tensor 'Fill:0' shape=(4, 5, 2) dtype=int32>"
      ]
     },
     "execution_count": 17,
     "metadata": {},
     "output_type": "execute_result"
    }
   ],
   "source": [
    "#----- Tensor relleno de 7s -----\n",
    "filled_t = tf.fill([4, 5, 2], 7)\n",
    "filled_t"
   ]
  },
  {
   "cell_type": "code",
   "execution_count": 18,
   "id": "fb2bc873-abf8-4c6d-bdd3-4020130e0af5",
   "metadata": {},
   "outputs": [
    {
     "data": {
      "text/plain": [
       "<tf.Tensor 'Const_2:0' shape=(5,) dtype=int32>"
      ]
     },
     "execution_count": 18,
     "metadata": {},
     "output_type": "execute_result"
    }
   ],
   "source": [
    "#----- Tensor a partir de una constante -----\n",
    "cte_t = tf.constant([1, 2, 3, 4, 5]) #Vector de 5 filas\n",
    "cte_t"
   ]
  },
  {
   "cell_type": "markdown",
   "id": "39d1babe-6e41-4f7b-944e-4a574a71a188",
   "metadata": {},
   "source": [
    "#### Tensores por tamaño"
   ]
  },
  {
   "cell_type": "code",
   "execution_count": 19,
   "id": "41d04d78-f8c9-47f2-8aa0-ba463e79735b",
   "metadata": {},
   "outputs": [
    {
     "data": {
      "text/plain": [
       "<tf.Tensor 'zeros_like:0' shape=(5,) dtype=int32>"
      ]
     },
     "execution_count": 19,
     "metadata": {},
     "output_type": "execute_result"
    }
   ],
   "source": [
    "#----- Tensor de tamaño de cte_t -----\n",
    "zero_sim = tf.zeros_like(cte_t)\n",
    "zero_sim"
   ]
  },
  {
   "cell_type": "code",
   "execution_count": 20,
   "id": "b78b28f8-dcb0-4876-a49d-334427cba0c5",
   "metadata": {},
   "outputs": [
    {
     "data": {
      "text/plain": [
       "<tf.Tensor 'ones_like:0' shape=(5,) dtype=int32>"
      ]
     },
     "execution_count": 20,
     "metadata": {},
     "output_type": "execute_result"
    }
   ],
   "source": [
    "ones_sim = tf.ones_like(cte_t)\n",
    "ones_sim"
   ]
  },
  {
   "cell_type": "markdown",
   "id": "c55b8a33-17a5-4d43-8bbd-f2234b5a4c42",
   "metadata": {},
   "source": [
    "#### Tensor en forma de secuencia\n",
    "- linspace()\n",
    "- range()"
   ]
  },
  {
   "cell_type": "code",
   "execution_count": 24,
   "id": "93f91c4f-3449-4280-a774-3e1b9f87462f",
   "metadata": {},
   "outputs": [
    {
     "data": {
      "text/plain": [
       "<tf.Tensor 'LinSpace_3:0' shape=(5,) dtype=float32>"
      ]
     },
     "execution_count": 24,
     "metadata": {},
     "output_type": "execute_result"
    }
   ],
   "source": [
    "sec_t = tf.linspace(start = 0.0, stop = 1.0, num = 5)\n",
    "sec_t"
   ]
  },
  {
   "cell_type": "code",
   "execution_count": 26,
   "id": "9361e57b-292b-4613-bc09-67c08a06fdce",
   "metadata": {},
   "outputs": [
    {
     "data": {
      "text/plain": [
       "<tf.Tensor 'range_1:0' shape=(3,) dtype=float32>"
      ]
     },
     "execution_count": 26,
     "metadata": {},
     "output_type": "execute_result"
    }
   ],
   "source": [
    "range_seq = tf.range(start = 5.0, limit = 15.0, delta = 4.0)\n",
    "range_seq # -> [5, 9, 13]"
   ]
  },
  {
   "cell_type": "markdown",
   "id": "fc163e27-1fb9-468d-952e-f1f9e9909b18",
   "metadata": {},
   "source": [
    "#### Tensores aleatorios"
   ]
  },
  {
   "cell_type": "code",
   "execution_count": 30,
   "id": "c5768fa3-b1c6-4a69-8a26-d99c9913e9d5",
   "metadata": {},
   "outputs": [
    {
     "data": {
      "text/plain": [
       "<tf.Tensor 'random_uniform:0' shape=(3, 4) dtype=float32>"
      ]
     },
     "execution_count": 30,
     "metadata": {},
     "output_type": "execute_result"
    }
   ],
   "source": [
    "#----- Tensor aleatorio de 3x4 con valores entre 0 y 1 -----\n",
    "rand_unif_t = tf.random_uniform([3, 4], minval = 0, maxval = 1)\n",
    "rand_unif_t"
   ]
  },
  {
   "cell_type": "code",
   "execution_count": 31,
   "id": "a0dd94fb-8c69-4d27-ac6b-65e843352ca5",
   "metadata": {},
   "outputs": [
    {
     "data": {
      "text/plain": [
       "<tf.Tensor 'random_normal:0' shape=(3, 4) dtype=float32>"
      ]
     },
     "execution_count": 31,
     "metadata": {},
     "output_type": "execute_result"
    }
   ],
   "source": [
    "#----- Tensor aleatorio con distribución normal -----\n",
    "rand_norm_t = tf.random_normal([3, 4], mean = 0.0, stddev = 1.0)\n",
    "rand_norm_t"
   ]
  },
  {
   "cell_type": "code",
   "execution_count": 32,
   "id": "d801543d-6b2c-48ec-a757-b80fb0d5bc0e",
   "metadata": {},
   "outputs": [
    {
     "data": {
      "text/plain": [
       "<tf.Tensor 'truncated_normal:0' shape=(3, 4) dtype=float32>"
      ]
     },
     "execution_count": 32,
     "metadata": {},
     "output_type": "execute_result"
    }
   ],
   "source": [
    "#----- Tensor aleatorio con distribución normal truncada -----\n",
    "rand_trunc_normal_t = tf.truncated_normal([3, 4], mean = 0.0, stddev = 1.0)\n",
    "rand_trunc_normal_t"
   ]
  },
  {
   "cell_type": "code",
   "execution_count": 34,
   "id": "445c0b45-5f2d-4b9e-94ee-6e7e1ee4efee",
   "metadata": {},
   "outputs": [
    {
     "data": {
      "text/plain": [
       "<tf.Tensor 'RandomShuffle_1:0' shape=(3, 4) dtype=float32>"
      ]
     },
     "execution_count": 34,
     "metadata": {},
     "output_type": "execute_result"
    }
   ],
   "source": [
    "tf.random_shuffle(rand_unif_t) #Barajeo de los datos"
   ]
  },
  {
   "cell_type": "code",
   "execution_count": 36,
   "id": "9b53c917-4735-4122-9716-2bd22b5acf22",
   "metadata": {},
   "outputs": [
    {
     "data": {
      "text/plain": [
       "<tf.Tensor 'random_crop:0' shape=(2, 6) dtype=float32>"
      ]
     },
     "execution_count": 36,
     "metadata": {},
     "output_type": "execute_result"
    }
   ],
   "source": [
    "tf.random_crop(rand_norm_t, [2, 6]) #Reorganización de datos"
   ]
  },
  {
   "cell_type": "markdown",
   "id": "c418b69b-7948-46a9-9201-83f59e98d0e4",
   "metadata": {},
   "source": [
    "### Introducción a las variables"
   ]
  },
  {
   "cell_type": "code",
   "execution_count": 38,
   "id": "ad1678cd-7939-4f5b-addd-2638336d97fd",
   "metadata": {},
   "outputs": [
    {
     "data": {
      "text/plain": [
       "<tf.Variable 'Variable_1:0' shape=(3, 4) dtype=float32_ref>"
      ]
     },
     "execution_count": 38,
     "metadata": {},
     "output_type": "execute_result"
    }
   ],
   "source": [
    "#----- Pasamos de tensor a variable -----\n",
    "tf.Variable(rand_norm_t)"
   ]
  },
  {
   "cell_type": "code",
   "execution_count": 39,
   "id": "1fb2265f-2d68-4f39-980b-e4627914e355",
   "metadata": {},
   "outputs": [
    {
     "data": {
      "text/plain": [
       "<tf.Tensor 'Const_3:0' shape=() dtype=int32>"
      ]
     },
     "execution_count": 39,
     "metadata": {},
     "output_type": "execute_result"
    }
   ],
   "source": [
    "#----- Pasamos de constante a tensor -----\n",
    "tf.convert_to_tensor(5)"
   ]
  },
  {
   "cell_type": "code",
   "execution_count": 40,
   "id": "b965cdaf-b901-48e5-b559-a1f3b20a236c",
   "metadata": {},
   "outputs": [
    {
     "data": {
      "text/plain": [
       "<tf.Tensor 'Const_4:0' shape=(5,) dtype=int32>"
      ]
     },
     "execution_count": 40,
     "metadata": {},
     "output_type": "execute_result"
    }
   ],
   "source": [
    "#----- Pasamos de array a tensor -----\n",
    "tf.convert_to_tensor([1, 2, 3, 4, 5])"
   ]
  },
  {
   "cell_type": "markdown",
   "id": "fb3ea7cd-a734-421c-9e09-6be12b6f93a7",
   "metadata": {},
   "source": [
    "### Placeholder vs variables"
   ]
  },
  {
   "cell_type": "markdown",
   "id": "8538507a-46dc-4506-87b9-cbcbf9a0dd10",
   "metadata": {},
   "source": [
    "#### Variables.\n",
    "- Parámetros del modelo, TF los utiliza para optimizar el resultado de nuestro algoritmo."
   ]
  },
  {
   "cell_type": "code",
   "execution_count": 42,
   "id": "170a0745-a2dd-4ae4-87ef-3e7553b3d81f",
   "metadata": {},
   "outputs": [],
   "source": [
    "#----- Inicialización de variables -----\n",
    "my_var = tf.Variable(tf.zeros([3, 4]))\n",
    "session = tf.Session()\n",
    "inits = tf.global_variables_initializer()\n",
    "session.run(inits)"
   ]
  },
  {
   "cell_type": "markdown",
   "id": "4449e47a-605d-43ef-a97d-63120cc8b4c1",
   "metadata": {},
   "source": [
    "#### Placeholders.\n",
    "- Objeto que permite recibir información de datos de un tipo y tamaño concreto."
   ]
  },
  {
   "cell_type": "code",
   "execution_count": 5,
   "id": "05a968e5-254b-4304-9671-6a5efb95a54b",
   "metadata": {},
   "outputs": [
    {
     "data": {
      "text/plain": [
       "array([[0.17850636, 0.53373732],\n",
       "       [0.69998723, 0.30688572]])"
      ]
     },
     "execution_count": 5,
     "metadata": {},
     "output_type": "execute_result"
    }
   ],
   "source": [
    "import numpy as np\n",
    "#----- Distribución aleatoria en una matriz 2x2 -----\n",
    "x_vals = np.random.rand(2, 2)\n",
    "x_vals"
   ]
  },
  {
   "cell_type": "code",
   "execution_count": 7,
   "id": "7943df36-fa94-4e54-af82-cbeecd7d4c59",
   "metadata": {},
   "outputs": [
    {
     "data": {
      "text/plain": [
       "array([[0.17850636, 0.5337373 ],\n",
       "       [0.69998723, 0.30688572]], dtype=float32)"
      ]
     },
     "execution_count": 7,
     "metadata": {},
     "output_type": "execute_result"
    }
   ],
   "source": [
    "session = tf.Session()\n",
    "x = tf.placeholder(tf.float32, shape = [2, 2])\n",
    "y = tf.identity(x)\n",
    "session.run(y, feed_dict = {x: x_vals})"
   ]
  },
  {
   "cell_type": "code",
   "execution_count": 48,
   "id": "6cc3ccac-1315-4465-a24e-7c7ca3bfc87c",
   "metadata": {},
   "outputs": [
    {
     "data": {
      "text/plain": [
       "<tf.Tensor 'Placeholder_6:0' shape=(2, 2) dtype=float32>"
      ]
     },
     "execution_count": 48,
     "metadata": {},
     "output_type": "execute_result"
    }
   ],
   "source": [
    "x"
   ]
  },
  {
   "cell_type": "code",
   "execution_count": 49,
   "id": "82cede60-031d-4904-81ae-ce0ef094cc6b",
   "metadata": {},
   "outputs": [
    {
     "data": {
      "text/plain": [
       "<tf.Tensor 'Identity:0' shape=(2, 2) dtype=float32>"
      ]
     },
     "execution_count": 49,
     "metadata": {},
     "output_type": "execute_result"
    }
   ],
   "source": [
    "y"
   ]
  },
  {
   "cell_type": "markdown",
   "id": "46631a7d-3ad4-4fd6-bc6a-d6f9a065233f",
   "metadata": {},
   "source": [
    "### Varias inicializaciones dependientes"
   ]
  },
  {
   "cell_type": "code",
   "execution_count": 50,
   "id": "e8e8de00-0b3e-410c-b18f-f719d480c213",
   "metadata": {},
   "outputs": [],
   "source": [
    "session = tf.Session()\n",
    "first_var = tf.Variable(tf.zeros([3, 4]))\n",
    "session.run(first_var.initializer)\n",
    "\n",
    "second_var = tf.Variable(tf.zeros_like(first_var))\n",
    "session.run(second_var.initializer)"
   ]
  },
  {
   "cell_type": "code",
   "execution_count": 51,
   "id": "18975d3a-1ff5-401a-ae09-3d4c442ef164",
   "metadata": {},
   "outputs": [
    {
     "data": {
      "text/plain": [
       "<tf.Variable 'Variable_5:0' shape=(3, 4) dtype=float32_ref>"
      ]
     },
     "execution_count": 51,
     "metadata": {},
     "output_type": "execute_result"
    }
   ],
   "source": [
    "second_var"
   ]
  },
  {
   "cell_type": "markdown",
   "id": "5055fa9f-98d3-43d4-b4ce-68882d9c525e",
   "metadata": {},
   "source": [
    "### Matrices en TensorFlow"
   ]
  },
  {
   "cell_type": "code",
   "execution_count": 8,
   "id": "ecef9ad9-bca6-4d1b-9435-11ec39f057d0",
   "metadata": {},
   "outputs": [],
   "source": [
    "import tensorflow as tf\n",
    "session = tf.Session()\n",
    "%config IPCompleter.greedy = True"
   ]
  },
  {
   "cell_type": "markdown",
   "id": "700db07e-f239-48d4-97c4-99875262465d",
   "metadata": {},
   "source": [
    "1. Creación de matrices"
   ]
  },
  {
   "cell_type": "code",
   "execution_count": 19,
   "id": "764dcd82-0b94-4309-bd2c-631a4895773d",
   "metadata": {},
   "outputs": [
    {
     "data": {
      "text/plain": [
       "<tf.Tensor 'Diag_1:0' shape=(4, 4) dtype=float32>"
      ]
     },
     "execution_count": 19,
     "metadata": {},
     "output_type": "execute_result"
    }
   ],
   "source": [
    "identity = tf.diag([1., 1., 1., 1.])\n",
    "identity"
   ]
  },
  {
   "cell_type": "code",
   "execution_count": 20,
   "id": "0e148cc3-ee3a-46f3-a8bf-b04ca0b6ece9",
   "metadata": {},
   "outputs": [
    {
     "name": "stdout",
     "output_type": "stream",
     "text": [
      "[[1. 0. 0. 0.]\n",
      " [0. 1. 0. 0.]\n",
      " [0. 0. 1. 0.]\n",
      " [0. 0. 0. 1.]]\n"
     ]
    }
   ],
   "source": [
    "print(session.run(identity))"
   ]
  },
  {
   "cell_type": "code",
   "execution_count": 21,
   "id": "ae944274-32bc-4ecc-89dc-b64eae8352fd",
   "metadata": {},
   "outputs": [
    {
     "name": "stdout",
     "output_type": "stream",
     "text": [
      "[[-1.6452596   0.800701   -0.12903592  1.4855534 ]\n",
      " [-1.039341   -1.6885188   0.85675603 -0.2225354 ]\n",
      " [-0.7676597   0.20998837 -1.4787811   1.6418428 ]]\n"
     ]
    }
   ],
   "source": [
    "A = tf.truncated_normal([3, 4])\n",
    "print(session.run(A))"
   ]
  },
  {
   "cell_type": "code",
   "execution_count": 22,
   "id": "43c6d830-4b98-4346-a371-0729ca1ed9af",
   "metadata": {},
   "outputs": [
    {
     "name": "stdout",
     "output_type": "stream",
     "text": [
      "[[1988. 1988. 1988. 1988.]\n",
      " [1988. 1988. 1988. 1988.]\n",
      " [1988. 1988. 1988. 1988.]]\n"
     ]
    }
   ],
   "source": [
    "B = tf.fill([3, 4], 1988.)\n",
    "print(session.run(B))"
   ]
  },
  {
   "cell_type": "code",
   "execution_count": 23,
   "id": "b9e2985c-2ada-46d2-afe4-4e318fe5563e",
   "metadata": {},
   "outputs": [
    {
     "name": "stdout",
     "output_type": "stream",
     "text": [
      "[[0.85733604 0.6575885  0.8073814 ]\n",
      " [0.8846265  0.482458   0.5824653 ]\n",
      " [0.3289051  0.37465823 0.48644626]\n",
      " [0.848379   0.67889416 0.47660804]]\n"
     ]
    }
   ],
   "source": [
    "C = tf.random_uniform([4, 3])\n",
    "print(session.run(C))"
   ]
  },
  {
   "cell_type": "code",
   "execution_count": 24,
   "id": "b7aa844f-4aca-4ce9-8ede-726c51d85437",
   "metadata": {},
   "outputs": [
    {
     "name": "stdout",
     "output_type": "stream",
     "text": [
      "[[1. 2. 3.]\n",
      " [4. 5. 6.]\n",
      " [7. 8. 9.]]\n"
     ]
    }
   ],
   "source": [
    "import numpy as np\n",
    "data = np.array([[1., 2., 3.], [4., 5., 6.], [7., 8., 9.]])\n",
    "D = tf.convert_to_tensor(data)\n",
    "print(session.run(D))"
   ]
  },
  {
   "cell_type": "markdown",
   "id": "ce2034fa",
   "metadata": {},
   "source": [
    "#### Operación con matrices"
   ]
  },
  {
   "cell_type": "code",
   "execution_count": 25,
   "id": "c7fa08ea",
   "metadata": {},
   "outputs": [
    {
     "name": "stdout",
     "output_type": "stream",
     "text": [
      "[[1988.1954 1986.571  1988.6531 1988.7528]\n",
      " [1987.9207 1988.1842 1988.9701 1987.8618]\n",
      " [1987.1545 1988.5078 1989.2051 1987.2487]]\n"
     ]
    }
   ],
   "source": [
    "print(session.run(A+B))"
   ]
  },
  {
   "cell_type": "code",
   "execution_count": 26,
   "id": "c27a6141",
   "metadata": {},
   "outputs": [
    {
     "name": "stdout",
     "output_type": "stream",
     "text": [
      "[[0. 0. 0. 0.]\n",
      " [0. 0. 0. 0.]\n",
      " [0. 0. 0. 0.]]\n"
     ]
    }
   ],
   "source": [
    "print(session.run(A-A))"
   ]
  },
  {
   "cell_type": "code",
   "execution_count": 27,
   "id": "7da7221a",
   "metadata": {},
   "outputs": [
    {
     "name": "stdout",
     "output_type": "stream",
     "text": [
      "[[-1.5117857  -1.0521741  -0.40214577]\n",
      " [-0.12470692 -0.13615209 -0.17703986]\n",
      " [-0.554613   -0.78642315 -0.24331848]]\n"
     ]
    }
   ],
   "source": [
    "print(session.run(tf.matmul(A, C)))"
   ]
  },
  {
   "cell_type": "code",
   "execution_count": 28,
   "id": "041406dd",
   "metadata": {},
   "outputs": [
    {
     "name": "stdout",
     "output_type": "stream",
     "text": [
      "[[ 0.5738312   1.3446224  -0.4731415   0.72016805]\n",
      " [ 0.68621933 -0.63117903 -1.2573658  -0.9140176 ]\n",
      " [ 0.31749785 -1.6556435   0.32247967  0.32617998]]\n"
     ]
    }
   ],
   "source": [
    "print(session.run(tf.matmul(A, identity)))"
   ]
  },
  {
   "cell_type": "markdown",
   "id": "a35a037c",
   "metadata": {},
   "source": [
    "#### Transpuesta y determinante de matrices"
   ]
  },
  {
   "cell_type": "code",
   "execution_count": 29,
   "id": "c9fa3188",
   "metadata": {},
   "outputs": [
    {
     "name": "stdout",
     "output_type": "stream",
     "text": [
      "[[1. 4. 7.]\n",
      " [2. 5. 8.]\n",
      " [3. 6. 9.]]\n"
     ]
    }
   ],
   "source": [
    "print(session.run(tf.transpose(D)))"
   ]
  },
  {
   "cell_type": "code",
   "execution_count": 30,
   "id": "e4b2b849",
   "metadata": {},
   "outputs": [
    {
     "name": "stdout",
     "output_type": "stream",
     "text": [
      "[[-0.6057502  -0.7586407   0.42716825]\n",
      " [-0.01458424  1.4621426   1.7662864 ]\n",
      " [ 0.613675    1.0226214  -0.6547976 ]\n",
      " [ 0.39200243  0.23724805 -0.10168858]]\n"
     ]
    }
   ],
   "source": [
    "print(session.run(tf.transpose(A)))"
   ]
  },
  {
   "cell_type": "code",
   "execution_count": 31,
   "id": "f3a90dfa",
   "metadata": {},
   "outputs": [
    {
     "name": "stdout",
     "output_type": "stream",
     "text": [
      "6.66133814775094e-16\n"
     ]
    }
   ],
   "source": [
    "print(session.run(tf.matrix_determinant(D)))"
   ]
  },
  {
   "cell_type": "code",
   "execution_count": 35,
   "id": "32bbb17f",
   "metadata": {},
   "outputs": [
    {
     "name": "stdout",
     "output_type": "stream",
     "text": [
      "-40.0\n"
     ]
    }
   ],
   "source": [
    "E = tf.convert_to_tensor(np.array([[1., 2., 3.], [-3., -6., -1.], [0., 5., -3.]]))\n",
    "print(session.run(tf.matrix_determinant(E)))"
   ]
  },
  {
   "cell_type": "code",
   "execution_count": 36,
   "id": "a7ad8648",
   "metadata": {},
   "outputs": [
    {
     "name": "stdout",
     "output_type": "stream",
     "text": [
      "[[-0.575 -0.525 -0.4  ]\n",
      " [ 0.225  0.075  0.2  ]\n",
      " [ 0.375  0.125  0.   ]]\n"
     ]
    }
   ],
   "source": [
    "print(session.run(tf.matrix_inverse(E)))"
   ]
  },
  {
   "cell_type": "markdown",
   "id": "3897802b",
   "metadata": {},
   "source": [
    "#### Descomposición de matrices"
   ]
  },
  {
   "cell_type": "code",
   "execution_count": 38,
   "id": "8f80814b",
   "metadata": {},
   "outputs": [
    {
     "name": "stdout",
     "output_type": "stream",
     "text": [
      "[[1. 0. 0. 0.]\n",
      " [0. 1. 0. 0.]\n",
      " [0. 0. 1. 0.]\n",
      " [0. 0. 0. 1.]]\n"
     ]
    }
   ],
   "source": [
    "print(session.run(tf.cholesky(identity)))"
   ]
  },
  {
   "cell_type": "markdown",
   "id": "67fd6d6b",
   "metadata": {},
   "source": [
    "#### Valores y vectores propios"
   ]
  },
  {
   "cell_type": "code",
   "execution_count": 39,
   "id": "b26cb703",
   "metadata": {},
   "outputs": [
    {
     "name": "stdout",
     "output_type": "stream",
     "text": [
      "(array([-10.24888536,  -0.66882335,   2.91770871]), array([[ 0.21442787,  0.60489799, -0.76688924],\n",
      "       [ 0.80402486,  0.3364893 ,  0.49022339],\n",
      "       [-0.55458517,  0.72171557,  0.41420034]]))\n"
     ]
    }
   ],
   "source": [
    "#----- Vectores propios -----\n",
    "print(session.run(tf.self_adjoint_eig(E)))"
   ]
  },
  {
   "cell_type": "code",
   "execution_count": 40,
   "id": "2baee244",
   "metadata": {},
   "outputs": [
    {
     "name": "stdout",
     "output_type": "stream",
     "text": [
      "[-10.24888536  -0.66882335   2.91770871]\n"
     ]
    }
   ],
   "source": [
    "#----- Valores propios -----\n",
    "print(session.run(tf.self_adjoint_eigvals(E)))"
   ]
  },
  {
   "cell_type": "code",
   "execution_count": 41,
   "id": "e4ff8269",
   "metadata": {},
   "outputs": [
    {
     "name": "stdout",
     "output_type": "stream",
     "text": [
      "(array([-10.24888536,  -0.66882335,   2.91770871]), array([[ 0.21442787,  0.60489799, -0.76688924],\n",
      "       [ 0.80402486,  0.3364893 ,  0.49022339],\n",
      "       [-0.55458517,  0.72171557,  0.41420034]]))\n"
     ]
    }
   ],
   "source": [
    "#----- Valores propios y vectores propios -----\n",
    "print(session.run(tf.self_adjoint_eig(E)))"
   ]
  },
  {
   "cell_type": "markdown",
   "id": "b87bea7c",
   "metadata": {},
   "source": [
    "### Operaciones aritméticas con TensorFlow"
   ]
  },
  {
   "cell_type": "code",
   "execution_count": 10,
   "id": "8fc99f75",
   "metadata": {},
   "outputs": [],
   "source": [
    "import tensorflow as tf\n",
    "session = tf.Session()"
   ]
  },
  {
   "cell_type": "code",
   "execution_count": 11,
   "id": "df5a7fe0",
   "metadata": {},
   "outputs": [],
   "source": [
    "x = 3\n",
    "y = 4"
   ]
  },
  {
   "cell_type": "code",
   "execution_count": 12,
   "id": "53d64296",
   "metadata": {},
   "outputs": [
    {
     "name": "stdout",
     "output_type": "stream",
     "text": [
      "7\n"
     ]
    }
   ],
   "source": [
    "print(session.run(tf.add(x, y)))"
   ]
  },
  {
   "cell_type": "code",
   "execution_count": 13,
   "id": "4cfedf4e",
   "metadata": {},
   "outputs": [
    {
     "name": "stdout",
     "output_type": "stream",
     "text": [
      "-1\n"
     ]
    }
   ],
   "source": [
    "print(session.run(tf.subtract(x, y)))"
   ]
  },
  {
   "cell_type": "code",
   "execution_count": 14,
   "id": "aec1128d",
   "metadata": {},
   "outputs": [
    {
     "name": "stdout",
     "output_type": "stream",
     "text": [
      "12\n"
     ]
    }
   ],
   "source": [
    "print(session.run(tf.multiply(x, y)))"
   ]
  },
  {
   "cell_type": "code",
   "execution_count": 18,
   "id": "2e5da133",
   "metadata": {},
   "outputs": [
    {
     "name": "stdout",
     "output_type": "stream",
     "text": [
      "0\n"
     ]
    }
   ],
   "source": [
    "print(session.run(tf.div(x, y)))"
   ]
  },
  {
   "cell_type": "code",
   "execution_count": 50,
   "id": "6194f083",
   "metadata": {},
   "outputs": [
    {
     "name": "stdout",
     "output_type": "stream",
     "text": [
      "2.0\n"
     ]
    }
   ],
   "source": [
    "print(session.run(tf.floordiv(7.0, 3.0)))"
   ]
  },
  {
   "cell_type": "code",
   "execution_count": 51,
   "id": "fe7ecb3b",
   "metadata": {},
   "outputs": [
    {
     "name": "stdout",
     "output_type": "stream",
     "text": [
      "3.0\n"
     ]
    }
   ],
   "source": [
    "print(session.run(tf.mod(23., 5.)))"
   ]
  },
  {
   "cell_type": "code",
   "execution_count": 53,
   "id": "c4c57650",
   "metadata": {},
   "outputs": [
    {
     "name": "stdout",
     "output_type": "stream",
     "text": [
      "[0. 0. 1.]\n"
     ]
    }
   ],
   "source": [
    "#----- Producto cruz para vectores 3-dim -----\n",
    "print(session.run(tf.cross([1., 0., 0.], [0., 1., 0.])))"
   ]
  },
  {
   "cell_type": "markdown",
   "id": "7b441706",
   "metadata": {},
   "source": [
    "### Funciones matemáticas"
   ]
  },
  {
   "cell_type": "code",
   "execution_count": 57,
   "id": "154ce5ec",
   "metadata": {},
   "outputs": [
    {
     "name": "stdout",
     "output_type": "stream",
     "text": [
      "[3. 2. 1. 0. 1. 2.]\n"
     ]
    }
   ],
   "source": [
    "x = [-3., -2., -1., 0., 1., 2.]\n",
    "print(session.run(tf.abs(x)))"
   ]
  },
  {
   "cell_type": "code",
   "execution_count": 59,
   "id": "4cd50303",
   "metadata": {},
   "outputs": [
    {
     "name": "stdout",
     "output_type": "stream",
     "text": [
      "7.0\n"
     ]
    }
   ],
   "source": [
    "print(session.run(tf.ceil(6.4)))"
   ]
  },
  {
   "cell_type": "code",
   "execution_count": 60,
   "id": "6442bc4f",
   "metadata": {},
   "outputs": [
    {
     "name": "stdout",
     "output_type": "stream",
     "text": [
      "6.0\n"
     ]
    }
   ],
   "source": [
    "print(session.run(tf.floor(6.4)))"
   ]
  },
  {
   "cell_type": "code",
   "execution_count": 61,
   "id": "ae1a493f",
   "metadata": {},
   "outputs": [
    {
     "name": "stdout",
     "output_type": "stream",
     "text": [
      "6.0\n"
     ]
    }
   ],
   "source": [
    "print(session.run(tf.round(6.4)))"
   ]
  },
  {
   "cell_type": "code",
   "execution_count": 62,
   "id": "2e9def1e",
   "metadata": {},
   "outputs": [
    {
     "name": "stdout",
     "output_type": "stream",
     "text": [
      "[-0.14112    -0.90929747 -0.84147096  0.          0.84147096  0.9092974 ]\n"
     ]
    }
   ],
   "source": [
    "print(session.run(tf.sin(x)))"
   ]
  },
  {
   "cell_type": "code",
   "execution_count": 63,
   "id": "49c9865c",
   "metadata": {},
   "outputs": [
    {
     "name": "stdout",
     "output_type": "stream",
     "text": [
      "[-0.9899925  -0.4161468   0.5403023   1.          0.5403023  -0.41614684]\n"
     ]
    }
   ],
   "source": [
    "print(session.run(tf.cos(x)))"
   ]
  },
  {
   "cell_type": "code",
   "execution_count": 64,
   "id": "18eac420",
   "metadata": {},
   "outputs": [
    {
     "name": "stdout",
     "output_type": "stream",
     "text": [
      "[ 0.14254653  2.18504    -1.5574079   0.          1.5574077  -2.1850398 ]\n"
     ]
    }
   ],
   "source": [
    "print(session.run(tf.tan(x)))"
   ]
  },
  {
   "cell_type": "code",
   "execution_count": 65,
   "id": "4e29b364",
   "metadata": {},
   "outputs": [
    {
     "name": "stdout",
     "output_type": "stream",
     "text": [
      "[      nan       nan       nan      -inf 0.        0.6931472]\n"
     ]
    }
   ],
   "source": [
    "print(session.run(tf.log(x)))"
   ]
  },
  {
   "cell_type": "code",
   "execution_count": 66,
   "id": "5b242a91",
   "metadata": {},
   "outputs": [],
   "source": [
    "y = [4., 3., 7., -4., -3., 7.]"
   ]
  },
  {
   "cell_type": "code",
   "execution_count": 67,
   "id": "0373543b",
   "metadata": {},
   "outputs": [
    {
     "name": "stdout",
     "output_type": "stream",
     "text": [
      "[4. 3. 7. 0. 1. 7.]\n"
     ]
    }
   ],
   "source": [
    "print(session.run(tf.maximum(x, y)))"
   ]
  },
  {
   "cell_type": "code",
   "execution_count": 68,
   "id": "e1a889fe",
   "metadata": {},
   "outputs": [
    {
     "name": "stdout",
     "output_type": "stream",
     "text": [
      "[-3. -2. -1. -4. -3.  2.]\n"
     ]
    }
   ],
   "source": [
    "print(session.run(tf.minimum(x, y)))"
   ]
  },
  {
   "cell_type": "code",
   "execution_count": 70,
   "id": "eb9f82c8",
   "metadata": {},
   "outputs": [
    {
     "name": "stdout",
     "output_type": "stream",
     "text": [
      "[-4. -3. -7.  4.  3. -7.]\n"
     ]
    }
   ],
   "source": [
    "print(session.run(tf.negative(y)))"
   ]
  },
  {
   "cell_type": "code",
   "execution_count": 71,
   "id": "3f81e7d8",
   "metadata": {},
   "outputs": [
    {
     "name": "stdout",
     "output_type": "stream",
     "text": [
      "[ 81.  -8.  -1.  inf   1. 128.]\n"
     ]
    }
   ],
   "source": [
    "print(session.run(tf.pow(x, y)))"
   ]
  },
  {
   "cell_type": "code",
   "execution_count": 72,
   "id": "a099a39c",
   "metadata": {},
   "outputs": [
    {
     "name": "stdout",
     "output_type": "stream",
     "text": [
      "[      nan       nan       nan 0.        1.        1.4142135]\n"
     ]
    }
   ],
   "source": [
    "print(session.run(tf.sqrt(x)))"
   ]
  },
  {
   "cell_type": "code",
   "execution_count": 73,
   "id": "077a7287",
   "metadata": {},
   "outputs": [
    {
     "name": "stdout",
     "output_type": "stream",
     "text": [
      "[       nan        nan        nan        inf 1.         0.70710677]\n"
     ]
    }
   ],
   "source": [
    "print(session.run(tf.rsqrt(x)))"
   ]
  },
  {
   "cell_type": "code",
   "execution_count": 74,
   "id": "50a4fa47",
   "metadata": {},
   "outputs": [
    {
     "name": "stdout",
     "output_type": "stream",
     "text": [
      "[9. 4. 1. 0. 1. 4.]\n"
     ]
    }
   ],
   "source": [
    "print(session.run(tf.square(x)))"
   ]
  },
  {
   "cell_type": "code",
   "execution_count": 75,
   "id": "e7a2ce97",
   "metadata": {},
   "outputs": [
    {
     "name": "stdout",
     "output_type": "stream",
     "text": [
      "[-1. -1. -1.  0.  1.  1.]\n"
     ]
    }
   ],
   "source": [
    "print(session.run(tf.sign(x)))"
   ]
  },
  {
   "cell_type": "markdown",
   "id": "b6098db6",
   "metadata": {},
   "source": [
    "### Otras funciones"
   ]
  },
  {
   "cell_type": "code",
   "execution_count": 76,
   "id": "2e728183",
   "metadata": {},
   "outputs": [
    {
     "name": "stdout",
     "output_type": "stream",
     "text": [
      "[       inf        inf        inf        inf -0.5772159  0.4227842]\n"
     ]
    }
   ],
   "source": [
    "#----- Derivada gamma de euler -----\n",
    "print(session.run(tf.digamma(x)))"
   ]
  },
  {
   "cell_type": "code",
   "execution_count": 77,
   "id": "60eee750",
   "metadata": {},
   "outputs": [
    {
     "name": "stdout",
     "output_type": "stream",
     "text": [
      "nan\n"
     ]
    }
   ],
   "source": [
    "#----- Logaritmo natural de la función beta -----\n",
    "print(session.run(tf.lbeta(x)))"
   ]
  },
  {
   "cell_type": "code",
   "execution_count": 78,
   "id": "49809e0f",
   "metadata": {},
   "outputs": [
    {
     "name": "stdout",
     "output_type": "stream",
     "text": [
      "[inf inf inf inf  0.  0.]\n"
     ]
    }
   ],
   "source": [
    "#----- Logaritmo natural de la función gamma -----\n",
    "print(session.run(tf.lgamma(x)))"
   ]
  },
  {
   "cell_type": "code",
   "execution_count": 79,
   "id": "441007db",
   "metadata": {},
   "outputs": [
    {
     "name": "stdout",
     "output_type": "stream",
     "text": [
      "[-0.9999779  -0.9953223  -0.84270084  0.          0.84270084  0.9953223 ]\n"
     ]
    }
   ],
   "source": [
    "#----- Error normalizado de la gausiana -----\n",
    "print(session.run(tf.erf(x)))"
   ]
  },
  {
   "cell_type": "code",
   "execution_count": 80,
   "id": "05b40844",
   "metadata": {},
   "outputs": [
    {
     "name": "stdout",
     "output_type": "stream",
     "text": [
      "[1.9999778  1.9953222  1.8427008  1.         0.1572992  0.00467773]\n"
     ]
    }
   ],
   "source": [
    "#----- Complementaria de la función anterior -----\n",
    "print(session.run(tf.erfc(x)))"
   ]
  },
  {
   "cell_type": "code",
   "execution_count": 81,
   "id": "b20cb304",
   "metadata": {},
   "outputs": [
    {
     "name": "stdout",
     "output_type": "stream",
     "text": [
      "[49. 25. 64. 16. 16. 25.]\n"
     ]
    }
   ],
   "source": [
    "#----- Suma cuadrado de las diferencias -----\n",
    "print(session.run(tf.squared_difference(x, y)))"
   ]
  },
  {
   "cell_type": "markdown",
   "id": "7b722d07",
   "metadata": {},
   "source": [
    "### Funciones propias"
   ]
  },
  {
   "cell_type": "code",
   "execution_count": 84,
   "id": "9537c0f0",
   "metadata": {},
   "outputs": [],
   "source": [
    "def custom_parabola(value):\n",
    "    #----- y = 5x2 - 7x + 15 -----\n",
    "    return tf.subtract(5*tf.square(value), 7*value) + 15"
   ]
  },
  {
   "cell_type": "code",
   "execution_count": 85,
   "id": "fa62253e",
   "metadata": {},
   "outputs": [
    {
     "name": "stdout",
     "output_type": "stream",
     "text": [
      "105\n"
     ]
    }
   ],
   "source": [
    "print(session.run(custom_parabola(5)))"
   ]
  }
 ],
 "metadata": {
  "kernelspec": {
   "display_name": "Python 3 (ipykernel)",
   "language": "python",
   "name": "python3"
  },
  "language_info": {
   "codemirror_mode": {
    "name": "ipython",
    "version": 3
   },
   "file_extension": ".py",
   "mimetype": "text/x-python",
   "name": "python",
   "nbconvert_exporter": "python",
   "pygments_lexer": "ipython3",
   "version": "3.7.11"
  }
 },
 "nbformat": 4,
 "nbformat_minor": 5
}
