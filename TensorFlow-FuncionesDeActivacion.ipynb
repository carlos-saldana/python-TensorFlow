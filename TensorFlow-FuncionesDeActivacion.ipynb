{
 "cells": [
  {
   "cell_type": "markdown",
   "id": "51df297f",
   "metadata": {},
   "source": [
    "### Funciones de activación"
   ]
  },
  {
   "cell_type": "code",
   "execution_count": 4,
   "id": "6d6e6b10",
   "metadata": {},
   "outputs": [],
   "source": [
    "import tensorflow as tf\n",
    "import tensorflow.nn as nn\n",
    "session = tf.Session()"
   ]
  },
  {
   "cell_type": "markdown",
   "id": "a0c3a56a",
   "metadata": {},
   "source": [
    "#### Función relu\n",
    "- Elimina valores negativos."
   ]
  },
  {
   "cell_type": "code",
   "execution_count": 3,
   "id": "ffc748a7",
   "metadata": {},
   "outputs": [
    {
     "name": "stdout",
     "output_type": "stream",
     "text": [
      "[ 0.  5. 15.]\n"
     ]
    }
   ],
   "source": [
    "#----- Función relu -----\n",
    "print(session.run(nn.relu([-5., 5., 15.])))"
   ]
  },
  {
   "cell_type": "code",
   "execution_count": 4,
   "id": "1a42c9f2",
   "metadata": {},
   "outputs": [
    {
     "name": "stdout",
     "output_type": "stream",
     "text": [
      "[0. 5. 6.]\n"
     ]
    }
   ],
   "source": [
    "#----- Función relu6 -----\n",
    "print(session.run(nn.relu6([-5., 5., 15.])))"
   ]
  },
  {
   "cell_type": "markdown",
   "id": "f450bb8b",
   "metadata": {},
   "source": [
    "#### Función sigmoide o logística\n",
    "- Continua y derivable."
   ]
  },
  {
   "cell_type": "code",
   "execution_count": 5,
   "id": "7e713e3f",
   "metadata": {},
   "outputs": [
    {
     "name": "stdout",
     "output_type": "stream",
     "text": [
      "[0.26894143 0.5        0.7310586  0.880797  ]\n"
     ]
    }
   ],
   "source": [
    "print(session.run(nn.sigmoid([-1., 0., 1., 2.])))"
   ]
  },
  {
   "cell_type": "markdown",
   "id": "6621d7d0",
   "metadata": {},
   "source": [
    "#### Función tangente hiperbólica\n",
    "- Continua y derivable.\n",
    "- Rango de valores entre -1 y 1."
   ]
  },
  {
   "cell_type": "code",
   "execution_count": 7,
   "id": "37321757",
   "metadata": {},
   "outputs": [
    {
     "name": "stdout",
     "output_type": "stream",
     "text": [
      "[-0.9640276 -0.7615942  0.9640276  0.7615942  0.9640276]\n"
     ]
    }
   ],
   "source": [
    "print(session.run(nn.tanh([-2., -1., 2., 1., 2.])))"
   ]
  },
  {
   "cell_type": "markdown",
   "id": "f32d9fc8",
   "metadata": {},
   "source": [
    "#### Función softsign\n",
    "- Versión continua de la función sign.\n",
    "- No es derivable."
   ]
  },
  {
   "cell_type": "code",
   "execution_count": 8,
   "id": "413f0032",
   "metadata": {},
   "outputs": [
    {
     "name": "stdout",
     "output_type": "stream",
     "text": [
      "[-0.6666667 -0.5        0.6666667  0.5        0.6666667]\n"
     ]
    }
   ],
   "source": [
    "print(session.run(nn.softsign([-2., -1., 2., 1., 2.])))"
   ]
  },
  {
   "cell_type": "markdown",
   "id": "cbbed925",
   "metadata": {},
   "source": [
    "#### Función softplus\n",
    "- Versión continua y derivable de la función relu."
   ]
  },
  {
   "cell_type": "code",
   "execution_count": 10,
   "id": "712a18a2",
   "metadata": {},
   "outputs": [
    {
     "name": "stdout",
     "output_type": "stream",
     "text": [
      "[0.12692805 0.31326166 0.6931472  1.3132616  2.126928  ]\n"
     ]
    }
   ],
   "source": [
    "print(session.run(nn.softplus([-2., -1., 0., 1., 2.])))"
   ]
  },
  {
   "cell_type": "markdown",
   "id": "3dfd776e",
   "metadata": {},
   "source": [
    "#### Función ELU (Exponencial Lineal Unitaria)"
   ]
  },
  {
   "cell_type": "code",
   "execution_count": 11,
   "id": "6a131b73",
   "metadata": {},
   "outputs": [
    {
     "name": "stdout",
     "output_type": "stream",
     "text": [
      "[-0.86466473 -0.63212055  0.          1.          2.        ]\n"
     ]
    }
   ],
   "source": [
    "print(session.run(nn.elu([-2., -1., 0., 1., 2.])))"
   ]
  }
 ],
 "metadata": {
  "kernelspec": {
   "display_name": "Python 3 (ipykernel)",
   "language": "python",
   "name": "python3"
  },
  "language_info": {
   "codemirror_mode": {
    "name": "ipython",
    "version": 3
   },
   "file_extension": ".py",
   "mimetype": "text/x-python",
   "name": "python",
   "nbconvert_exporter": "python",
   "pygments_lexer": "ipython3",
   "version": "3.7.11"
  }
 },
 "nbformat": 4,
 "nbformat_minor": 5
}
